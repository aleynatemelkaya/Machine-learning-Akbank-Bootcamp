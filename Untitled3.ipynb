{
  "nbformat": 4,
  "nbformat_minor": 0,
  "metadata": {
    "colab": {
      "provenance": [],
      "authorship_tag": "ABX9TyMz4PtHfe4BFaKeKRWbljtn",
      "include_colab_link": true
    },
    "kernelspec": {
      "name": "python3",
      "display_name": "Python 3"
    },
    "language_info": {
      "name": "python"
    }
  },
  "cells": [
    {
      "cell_type": "markdown",
      "metadata": {
        "id": "view-in-github",
        "colab_type": "text"
      },
      "source": [
        "<a href=\"https://colab.research.google.com/github/aleynatemelkaya/Machine-learning-Akbank-Bootcamp/blob/main/Untitled3.ipynb\" target=\"_parent\"><img src=\"https://colab.research.google.com/assets/colab-badge.svg\" alt=\"Open In Colab\"/></a>"
      ]
    },
    {
      "cell_type": "code",
      "execution_count": null,
      "metadata": {
        "id": "kGFsAzZcebAc",
        "colab": {
          "base_uri": "https://localhost:8080/"
        },
        "outputId": "48219a8b-f0f9-4ec9-bbf6-fe936c87b19a"
      },
      "outputs": [
        {
          "output_type": "stream",
          "name": "stdout",
          "text": [
            "*** MENU***\n",
            "1) List Books\n",
            "2) Add Book\n",
            "3) Remove Book\n",
            "q)Q1uit\n"
          ]
        }
      ],
      "source": [
        "class Library:\n",
        "    def __init__(self):\n",
        "        self.file = open(\"books.txt\", \"a+\")\n",
        "\n",
        "    def listing(self):\n",
        "        self.file.seek(0)  # Dosyayı başa al\n",
        "        lines = self.file.read().splitlines()\n",
        "\n",
        "        eachbook = []\n",
        "        for line in lines:\n",
        "            book_info = line.split(\",\")\n",
        "            eachbook.append(book_info)\n",
        "\n",
        "        for book in eachbook:\n",
        "            print(f\"Book: {book[0]}, Author: {book[1]}\")\n",
        "\n",
        "\n",
        "    def add_book(self):\n",
        "      book_title= input(\"What is the name of the book that you want to add?\")\n",
        "      book_author= input(\"What is the author of the  book that you want to add?\")\n",
        "      book_releasedate= input(\"What is the release date of the  book that you want to add?\")\n",
        "      book_numberofpages= input(\"What is the number of pages of the  book that you want to add?\")\n",
        "      new_add = f\"{book_title},{book_author},{book_releasedate},{book_numberofpages}\\n\"\n",
        "      self.file.write(new_add)\n",
        "\n",
        "    def remove_book(self):\n",
        "        print(\"Remove a Book:\")\n",
        "        title_to_remove = input(\"Enter the title of the book to remove: \")\n",
        "\n",
        "        self.file.seek(0)\n",
        "        book_lines = self.file.read().splitlines()\n",
        "\n",
        "        found = False\n",
        "        for i, book_line in enumerate(book_lines):\n",
        "            if title_to_remove in book_line:\n",
        "                found = True\n",
        "                del book_lines[i]\n",
        "                break\n",
        "\n",
        "        if found:\n",
        "            self.file.truncate(0)\n",
        "            self.file.seek(0)\n",
        "\n",
        "            for book_line in book_lines:\n",
        "                self.file.write(book_line + \"\\n\")\n",
        "\n",
        "    def dosyayi_kapat(self):\n",
        "        self.file.close()\n",
        "\n",
        "    def __del__(self):\n",
        "        self.dosyayi_kapat()\n",
        "\n",
        "# Library sınıfını kullanma örneği\n",
        "lib = Library()\n",
        "\n",
        "while True:\n",
        "  print(\"*** MENU***\")\n",
        "  print(\"1) List Books\")\n",
        "  print(\"2) Add Book\")\n",
        "  print(\"3) Remove Book\")\n",
        "  print(\"q)Q1uit\")\n",
        "\n",
        "\n",
        "  answer = (input(\"enter your choice (1-3)\"))\n",
        "  if answer.lower() == 'q':\n",
        "        break\n",
        "  if answer == '1':\n",
        "      lib.listing()\n",
        "  elif answer == '2':\n",
        "      lib.add_book()\n",
        "  elif answer == '3':\n",
        "      lib.remove_book()\n",
        "  else:\n",
        "     print(\"Invalid choice. Please enter a number between 1 and 3.\")\n",
        "\n",
        "\n",
        "\n",
        "\n"
      ]
    },
    {
      "cell_type": "markdown",
      "source": [],
      "metadata": {
        "id": "hdTvxZuo5tWg"
      }
    }
  ]
}